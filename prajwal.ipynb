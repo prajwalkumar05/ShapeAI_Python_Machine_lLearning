{
  "nbformat": 4,
  "nbformat_minor": 0,
  "metadata": {
    "colab": {
      "name": "prajwal.ipynb",
      "provenance": [],
      "collapsed_sections": []
    },
    "kernelspec": {
      "name": "python3",
      "display_name": "Python 3"
    },
    "language_info": {
      "name": "python"
    }
  },
  "cells": [
    {
      "cell_type": "code",
      "metadata": {
        "id": "EHclqurFacTd"
      },
      "source": [
        "import numpay as np\n",
        "import pandas as pd\n",
        "import sklearn\n",
        "from sklearn.datasets import load_boston\n",
        "df=load_boston()\n",
        "\n",
        "[] df.keys()\n",
        "\n",
        "dict_keys(['data' 'target','feature_names,'DISCR','filename'])\n",
        "\n",
        "boston=pd.Dataframe(df.data,columns=df.feature_names)\n",
        "boston.head()\n",
        "\n",
        "boston['MEDU']=df.target\n",
        "boston.head()\n",
        "\n",
        "boston.isnull()\n",
        "\n",
        "boston.isnull().sum()\n",
        "\n",
        "from sklearn.model_selection import train_test_split\n",
        "\n",
        "X = =boston.drop('MEDv',axis=1)\n",
        "Y = boston['MEDV']\n",
        "\n",
        "x_train,x_test,Y_train,Y_test = train_test_split(x,y, test_size =0.15,random_state=5)\n",
        "\n",
        "print(X_train,shape)\n",
        "print(X_test,shape)\n",
        "print(Y_train,shape)\n",
        "print(Y_test,shape)\n",
        "\n",
        "from sklearn.linear_model import linearRegression\n",
        "from sklearn.metrics import mean_squared_error\n",
        "\n",
        "lin_model = linearRegression()\n",
        "\n",
        "lin_model.fit(X_train,Y_train)\n",
        "\n",
        "y_train_predict = lin_model.predict(X_train)\n",
        "rmse = (np.sqrt(mean_squared_error(y_train,y_train_predict)))\n",
        "\n",
        "print(\"the model performance for training set\")\n",
        "print('RMSE is{}'.format(rmse))\n",
        "print(\"\\n\")\n",
        "\n",
        "y_test_predict = lin_model.predict(X_test)\n",
        "rmse = (np.sqrt(mean_squared_error(y_test,y_test_predict)))\n",
        "\n",
        "print(\"the model performance for testing set\")\n",
        "print('RMSE is{}'.format(rmse))\n",
        "\n",
        "\n"
      ],
      "execution_count": null,
      "outputs": []
    }
  ]
}